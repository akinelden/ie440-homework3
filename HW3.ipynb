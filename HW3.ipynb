{
 "nbformat": 4,
 "nbformat_minor": 2,
 "metadata": {
  "language_info": {
   "name": "python",
   "codemirror_mode": {
    "name": "ipython",
    "version": 3
   }
  },
  "orig_nbformat": 2,
  "file_extension": ".py",
  "mimetype": "text/x-python",
  "name": "python",
  "npconvert_exporter": "python",
  "pygments_lexer": "ipython3",
  "version": 3
 },
 "cells": [
  {
   "cell_type": "markdown",
   "execution_count": null,
   "metadata": {},
   "outputs": [],
   "source": [
    "# Homework 3"
   ]
  },
  {
   "cell_type": "code",
   "execution_count": 1,
   "metadata": {},
   "outputs": [],
   "source": [
    "import pandas as pd\n",
    "import numpy as np\n",
    "import sympy as sym\n",
    "from sympy import Symbol, cos, sin, lambdify\n",
    "import matplotlib.pyplot as plt\n",
    "import pdb\n",
    "from pylab import meshgrid,cm,imshow,contour,clabel,colorbar,axis,title,show"
   ]
  },
  {
   "cell_type": "code",
   "execution_count": 2,
   "metadata": {},
   "outputs": [],
   "source": [
    "x1  = sym.Symbol('x1')\n",
    "x2 = sym.Symbol('x2')\n",
    "function = (5*x1-x2)**4+((x1-2)**2)+(x1-2*x2)+12\n",
    "f = lambdify([[x1,x2]], function, 'numpy')\n",
    "# plot the function\n",
    "f_2 = lambdify([[x1,x2]], function, 'numpy')"
   ]
  },
  {
   "cell_type": "code",
   "execution_count": 4,
   "metadata": {},
   "outputs": [],
   "source": [
    "x = np.arange(6.0,7.0,0.1)\n",
    "y = np.arange(32.0,33.0,0.1)\n",
    "X,Y = meshgrid(x, y) # grid of point\n",
    "Z = f_2(X,Y) # evaluation of the function on the grid\n",
    "\n",
    "from mpl_toolkits.mplot3d import Axes3D\n",
    "from matplotlib import cm\n",
    "from matplotlib.ticker import LinearLocator, FormatStrFormatter\n",
    "import matplotlib.pyplot as plt\n",
    "\n",
    "fig = plt.figure()\n",
    "ax = fig.gca(projection='3d')\n",
    "surf = ax.plot_surface(X, Y, Z, rstride=1, cstride=1, \n",
    "                      cmap=cm.RdBu,linewidth=0, antialiased=False)\n",
    "\n",
    "ax.zaxis.set_major_locator(LinearLocator(10))\n",
    "ax.zaxis.set_major_formatter(FormatStrFormatter('%.02f'))\n",
    "\n",
    "fig.colorbar(surf, shrink=0.5, aspect=5)\n",
    "\n",
    "plt.show()"
   ]
  },
  {
   "cell_type": "markdown",
   "execution_count": null,
   "metadata": {},
   "outputs": [],
   "source": [
    "## Cyclic Coordinate Search"
   ]
  },
  {
   "cell_type": "code",
   "execution_count": 3,
   "metadata": {},
   "outputs": [],
   "source": [
    "def BisectionMethod(f, a=-100,b=100,epsilon=0.005) :\n",
    "    iteration=0\n",
    "    while (b - a) >= epsilon:\n",
    "        x_1 = (a + b) / 2\n",
    "        fx_1 = f(x_1)\n",
    "        if f(x_1 + epsilon) <= fx_1:\n",
    "            a = x_1\n",
    "        else:\n",
    "            b = x_1\n",
    "        iteration+=1\n",
    "    x_star = (a+b)/2\n",
    "    return x_star"
   ]
  },
  {
   "cell_type": "code",
   "execution_count": 47,
   "metadata": {},
   "outputs": [],
   "source": [
    "def ExactLineSearch(f, x0, d):\n",
    "    alpha = sym.Symbol('alpha')\n",
    "    function_alpha = f(np.array(x0)+alpha*np.array(d))\n",
    "    f_alp = lambdify(alpha, function_alpha, 'numpy')\n",
    "    alp_star = BisectionMethod(f_alp)\n",
    "    return alp_star"
   ]
  },
  {
   "cell_type": "code",
   "execution_count": 44,
   "metadata": {},
   "outputs": [],
   "source": [
    "def CyclicCoordinateSearch(f, x0, epsilon):\n",
    "    \"\"\"\n",
    "    Cyclic Coordinate Search method.\n",
    "    Parameters\n",
    "    ----------\n",
    "    f : lambda expression The function to be evaluated\n",
    "    x0 : numpy.array Starting coordinates\n",
    "    epsilon : float Epsilon value determined to check optimality\n",
    "    Returns\n",
    "    ---------\n",
    "    x1 : numpy.array The found x* vector\n",
    "    k : integer Number of iterations\n",
    "    \"\"\"\n",
    "    x0 = np.array(x0)\n",
    "    x_array = [x0]\n",
    "    k = 0\n",
    "    n = len(x0)\n",
    "    res_array = []\n",
    "    while(True):\n",
    "        for j in range(n):\n",
    "            x_now = x_array[k]\n",
    "            d = np.zeros(n)\n",
    "            d[j] = 1\n",
    "            # exact line search:\n",
    "            # minimize f(x0+alpha*d)\n",
    "            alpha = ExactLineSearch(f, x_now, d)\n",
    "            x_next = x_now + alpha*d\n",
    "            x_array.append(x_next)\n",
    "            res_array.append([k, np.array2string(x_now,precision=4), f(x_now), str(d), alpha, np.array2string(x_next,precision=4)])\n",
    "            k += 1\n",
    "        if(np.linalg.norm(x_array[k]-x_array[k-1]) < epsilon):\n",
    "            result_table = pd.DataFrame(res_array, columns=['k' ,'x^k', 'fx^k', 'd^k', 'a^k', 'x^k+1'])\n",
    "            return x_array[k], k, result_table"
   ]
  },
  {
   "cell_type": "code",
   "execution_count": 46,
   "metadata": {},
   "outputs": [],
   "source": [
    "x, k, output = CyclicCoordinateSearch(f,[-8,10],0.01)"
   ]
  },
  {
   "cell_type": "markdown",
   "execution_count": null,
   "metadata": {},
   "outputs": [],
   "source": [
    "## Hook & Jeeves Method"
   ]
  },
  {
   "cell_type": "code",
   "execution_count": null,
   "metadata": {},
   "outputs": [],
   "source": [
    "# code goes to here"
   ]
  },
  {
   "cell_type": "markdown",
   "execution_count": null,
   "metadata": {},
   "outputs": [],
   "source": [
    "## Simplex Search"
   ]
  },
  {
   "cell_type": "code",
   "execution_count": 6,
   "metadata": {},
   "outputs": [],
   "source": [
    "def SimplexSearch():\n",
    "    x=np.zeros(shape=(3,2))\n",
    "    x_1=np.array([-2,15])#initial\n",
    "    x_2=np.array([-8,10])#initial\n",
    "    x_3=np.array([0,0])#initial\n",
    "    x[0]=x_1\n",
    "    x[1]=x_2\n",
    "    x[2]=x_3 \n",
    "    def compute_f_values(a):\n",
    "        f_values=np.zeros(a.shape[0])    \n",
    "        for i in range(a.shape[0]):\n",
    "            f_values[i]=f(a[i])\n",
    "        return f_values    \n",
    "    epsilon=1\n",
    "    alpha=1\n",
    "    beta=0.5\n",
    "    gamma=2\n",
    "    \n",
    "    while(True):    \n",
    "        sum_value=0\n",
    "        f_values=compute_f_values(x)#function values of x_matrix\n",
    "        x_h=x[np.argmax(f_values)] #the worst point\n",
    "        x_l=x[np.argmin(f_values)] #the best point\n",
    "        index_to_go=np.argmax(f_values) #index of x_h\n",
    "        mean_x=np.delete(x, index_to_go, 0)#x matrix rather than x_h\n",
    "        x_mean=np.mean(mean_x,axis=0)#compute the mean of x matrix rather than x_h\n",
    "        f_values_mean_x=compute_f_values(mean_x)#function values of x_matrix except x_h\n",
    "        \n",
    "        x_r=x_mean+alpha*(x_mean-x_h) #reflection\n",
    "        \n",
    "        if f(x_l)>f(x_r): #the reflected point x_r happens to be better than the current best  \n",
    "            x_e=x_mean+gamma*(x_r-x_mean) #Expansion\n",
    "            if f(x_r)>f(x_e): #the expanded point x_e happens to be better than the current best x_r\n",
    "                x[np.argmax(f_values)]=x_e\n",
    "            else:             #the expanded point is not better than x_r so we replace x_h with x_r\n",
    "                x[np.argmax(f_values)]=x_r\n",
    "        \n",
    "        else:\n",
    "            if (np.max(f_values_mean_x))>=f(x_r):\n",
    "                x[np.argmax(f_values)]=x_r\n",
    "            else:\n",
    "                if f(x_h)>f(x_r):\n",
    "                    x_h_prime=x_r\n",
    "                else:\n",
    "                    x_h_prime=x_h\n",
    "                \n",
    "                x_c=x_mean+beta*(x_h_prime-x_mean) #contraction\n",
    "                if f(x_c) <= f(x_h):\n",
    "                    x[np.argmax(f_values)]=x_c\n",
    "                else:\n",
    "                    for i in range(3):\n",
    "                        x[i]=x[i]+0.5*(x_l-x[i]) #shrink operation\n",
    "        \n",
    "        for i in range(3):\n",
    "            sum_value+=(f(x[i])-f(x_mean))**2\n",
    "        print(sum_value)\n",
    "        if np.sqrt(sum_value)<epsilon:\n",
    "            break\n",
    "                \n",
    "    return x_mean"
   ]
  },
  {
   "cell_type": "code",
   "execution_count": 7,
   "metadata": {},
   "outputs": [],
   "source": [
    "SimplexSearch()"
   ]
  }
 ]
}